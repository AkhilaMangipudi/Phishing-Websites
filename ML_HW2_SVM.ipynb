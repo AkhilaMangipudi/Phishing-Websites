{
 "cells": [
  {
   "cell_type": "code",
   "execution_count": 252,
   "metadata": {},
   "outputs": [
    {
     "data": {
      "text/html": [
       "<div>\n",
       "<style scoped>\n",
       "    .dataframe tbody tr th:only-of-type {\n",
       "        vertical-align: middle;\n",
       "    }\n",
       "\n",
       "    .dataframe tbody tr th {\n",
       "        vertical-align: top;\n",
       "    }\n",
       "\n",
       "    .dataframe thead th {\n",
       "        text-align: right;\n",
       "    }\n",
       "</style>\n",
       "<table border=\"1\" class=\"dataframe\">\n",
       "  <thead>\n",
       "    <tr style=\"text-align: right;\">\n",
       "      <th></th>\n",
       "      <th>f1</th>\n",
       "      <th>f2</th>\n",
       "      <th>f3</th>\n",
       "      <th>f4</th>\n",
       "      <th>f5</th>\n",
       "      <th>f6</th>\n",
       "      <th>f7</th>\n",
       "      <th>f8</th>\n",
       "      <th>f9</th>\n",
       "      <th>f10</th>\n",
       "      <th>...</th>\n",
       "      <th>f22</th>\n",
       "      <th>f23</th>\n",
       "      <th>f24</th>\n",
       "      <th>f25</th>\n",
       "      <th>f26</th>\n",
       "      <th>f27</th>\n",
       "      <th>f28</th>\n",
       "      <th>f29</th>\n",
       "      <th>f30</th>\n",
       "      <th>f31</th>\n",
       "    </tr>\n",
       "  </thead>\n",
       "  <tbody>\n",
       "    <tr>\n",
       "      <th>0</th>\n",
       "      <td>-1</td>\n",
       "      <td>1</td>\n",
       "      <td>1</td>\n",
       "      <td>1</td>\n",
       "      <td>-1</td>\n",
       "      <td>-1</td>\n",
       "      <td>-1</td>\n",
       "      <td>-1</td>\n",
       "      <td>-1</td>\n",
       "      <td>1</td>\n",
       "      <td>...</td>\n",
       "      <td>1</td>\n",
       "      <td>1</td>\n",
       "      <td>-1</td>\n",
       "      <td>-1</td>\n",
       "      <td>-1</td>\n",
       "      <td>-1</td>\n",
       "      <td>1</td>\n",
       "      <td>1</td>\n",
       "      <td>-1</td>\n",
       "      <td>-1</td>\n",
       "    </tr>\n",
       "    <tr>\n",
       "      <th>1</th>\n",
       "      <td>1</td>\n",
       "      <td>1</td>\n",
       "      <td>1</td>\n",
       "      <td>1</td>\n",
       "      <td>1</td>\n",
       "      <td>-1</td>\n",
       "      <td>0</td>\n",
       "      <td>1</td>\n",
       "      <td>-1</td>\n",
       "      <td>1</td>\n",
       "      <td>...</td>\n",
       "      <td>1</td>\n",
       "      <td>1</td>\n",
       "      <td>-1</td>\n",
       "      <td>-1</td>\n",
       "      <td>0</td>\n",
       "      <td>-1</td>\n",
       "      <td>1</td>\n",
       "      <td>1</td>\n",
       "      <td>1</td>\n",
       "      <td>-1</td>\n",
       "    </tr>\n",
       "    <tr>\n",
       "      <th>2</th>\n",
       "      <td>1</td>\n",
       "      <td>0</td>\n",
       "      <td>1</td>\n",
       "      <td>1</td>\n",
       "      <td>1</td>\n",
       "      <td>-1</td>\n",
       "      <td>-1</td>\n",
       "      <td>-1</td>\n",
       "      <td>-1</td>\n",
       "      <td>1</td>\n",
       "      <td>...</td>\n",
       "      <td>1</td>\n",
       "      <td>1</td>\n",
       "      <td>1</td>\n",
       "      <td>-1</td>\n",
       "      <td>1</td>\n",
       "      <td>-1</td>\n",
       "      <td>1</td>\n",
       "      <td>0</td>\n",
       "      <td>-1</td>\n",
       "      <td>-1</td>\n",
       "    </tr>\n",
       "    <tr>\n",
       "      <th>3</th>\n",
       "      <td>1</td>\n",
       "      <td>0</td>\n",
       "      <td>1</td>\n",
       "      <td>1</td>\n",
       "      <td>1</td>\n",
       "      <td>-1</td>\n",
       "      <td>-1</td>\n",
       "      <td>-1</td>\n",
       "      <td>1</td>\n",
       "      <td>1</td>\n",
       "      <td>...</td>\n",
       "      <td>1</td>\n",
       "      <td>1</td>\n",
       "      <td>-1</td>\n",
       "      <td>-1</td>\n",
       "      <td>1</td>\n",
       "      <td>-1</td>\n",
       "      <td>1</td>\n",
       "      <td>-1</td>\n",
       "      <td>1</td>\n",
       "      <td>-1</td>\n",
       "    </tr>\n",
       "    <tr>\n",
       "      <th>4</th>\n",
       "      <td>1</td>\n",
       "      <td>0</td>\n",
       "      <td>-1</td>\n",
       "      <td>1</td>\n",
       "      <td>1</td>\n",
       "      <td>-1</td>\n",
       "      <td>1</td>\n",
       "      <td>1</td>\n",
       "      <td>-1</td>\n",
       "      <td>1</td>\n",
       "      <td>...</td>\n",
       "      <td>-1</td>\n",
       "      <td>1</td>\n",
       "      <td>-1</td>\n",
       "      <td>-1</td>\n",
       "      <td>0</td>\n",
       "      <td>-1</td>\n",
       "      <td>1</td>\n",
       "      <td>1</td>\n",
       "      <td>1</td>\n",
       "      <td>1</td>\n",
       "    </tr>\n",
       "  </tbody>\n",
       "</table>\n",
       "<p>5 rows × 31 columns</p>\n",
       "</div>"
      ],
      "text/plain": [
       "   f1  f2  f3  f4  f5  f6  f7  f8  f9  f10 ...   f22  f23  f24  f25  f26  f27  \\\n",
       "0  -1   1   1   1  -1  -1  -1  -1  -1    1 ...     1    1   -1   -1   -1   -1   \n",
       "1   1   1   1   1   1  -1   0   1  -1    1 ...     1    1   -1   -1    0   -1   \n",
       "2   1   0   1   1   1  -1  -1  -1  -1    1 ...     1    1    1   -1    1   -1   \n",
       "3   1   0   1   1   1  -1  -1  -1   1    1 ...     1    1   -1   -1    1   -1   \n",
       "4   1   0  -1   1   1  -1   1   1  -1    1 ...    -1    1   -1   -1    0   -1   \n",
       "\n",
       "   f28  f29  f30  f31  \n",
       "0    1    1   -1   -1  \n",
       "1    1    1    1   -1  \n",
       "2    1    0   -1   -1  \n",
       "3    1   -1    1   -1  \n",
       "4    1    1    1    1  \n",
       "\n",
       "[5 rows x 31 columns]"
      ]
     },
     "execution_count": 252,
     "metadata": {},
     "output_type": "execute_result"
    }
   ],
   "source": [
    "import pandas as pd\n",
    "input_df = pd.read_csv(\"hw2_question3.csv\")\n",
    "input_df.head()\n"
   ]
  },
  {
   "cell_type": "code",
   "execution_count": 253,
   "metadata": {},
   "outputs": [
    {
     "name": "stdout",
     "output_type": "stream",
     "text": [
      "Number of training samples:  11055\n"
     ]
    }
   ],
   "source": [
    "num_rows = input_df.shape[0]\n",
    "print(\"Number of training samples: \",num_rows)"
   ]
  },
  {
   "cell_type": "code",
   "execution_count": 254,
   "metadata": {},
   "outputs": [
    {
     "name": "stdout",
     "output_type": "stream",
     "text": [
      "Index(['f1', 'f3', 'f4', 'f5', 'f6', 'f9', 'f10', 'f11', 'f12', 'f13', 'f17',\n",
      "       'f18', 'f19', 'f20', 'f21', 'f22', 'f23', 'f24', 'f25', 'f27', 'f28',\n",
      "       'f30', 'f31', 'f2_-1', 'f2_0', 'f2_1', 'f7_-1', 'f7_0', 'f7_1', 'f8_-1',\n",
      "       'f8_0', 'f8_1', 'f14_-1', 'f14_0', 'f14_1', 'f15_-1', 'f15_0', 'f15_1',\n",
      "       'f16_-1', 'f16_0', 'f16_1', 'f26_-1', 'f26_0', 'f26_1', 'f29_-1',\n",
      "       'f29_0', 'f29_1'],\n",
      "      dtype='object')\n"
     ]
    }
   ],
   "source": [
    "#Question 2(a)\n",
    "#Pre-processing step, converting features which take \n",
    "#values {-1,0,1} into three features each.\n",
    "\n",
    "#the list of features which take 3 values\n",
    "features_multival_list = [2, 7, 8, 14, 15, 16, 26, 29] \n",
    "temp_list = [-1, 0, 1]\n",
    "\n",
    "for x in features_multival_list:\n",
    "    old_column_name = 'f' + str(x)\n",
    "    for y in temp_list:\n",
    "        new_column_name = old_column_name + '_' + str(y)\n",
    "        feature_values = []\n",
    "        for i in range(num_rows):\n",
    "            if(input_df.loc[i,old_column_name] == y):\n",
    "                feature_values.append(1)\n",
    "            else:\n",
    "                feature_values.append(0)\n",
    "        input_df[new_column_name] = feature_values\n",
    "    input_df = input_df.drop(columns=[old_column_name])\n",
    "\n",
    "print(input_df.columns)"
   ]
  },
  {
   "cell_type": "code",
   "execution_count": 255,
   "metadata": {},
   "outputs": [
    {
     "name": "stdout",
     "output_type": "stream",
     "text": [
      "Size of training set is : (7370, 47)\n",
      "Size of test set is:  (3685, 47)\n"
     ]
    }
   ],
   "source": [
    "#Dividing the whole data set into train and test sets (2/3 train and 1/3 test)\n",
    "#7370 elements into training set\n",
    "from sklearn.utils import shuffle\n",
    "\n",
    "#Shuffle the given data to provision for random split\n",
    "input_df = shuffle(input_df)\n",
    "train_set = input_df.iloc[0:7370,:]\n",
    "test_set = input_df.iloc[7370:,:]\n",
    "\n",
    "print(\"Size of training set is :\", train_set.shape)\n",
    "print(\"Size of test set is: \", test_set.shape)"
   ]
  },
  {
   "cell_type": "code",
   "execution_count": 256,
   "metadata": {},
   "outputs": [
    {
     "name": "stdout",
     "output_type": "stream",
     "text": [
      "shape of X train is : (7370, 46)\n",
      "shape of Y train is:  (7370,)\n",
      "Shape of Y train is:  (3685, 46)\n",
      "Shape of Y test is:  (3685,)\n"
     ]
    }
   ],
   "source": [
    "X_train = train_set.drop(columns=['f31'],axis=1)\n",
    "print(\"shape of X train is :\",X_train.shape)\n",
    "\n",
    "Y_train = train_set.loc[:,'f31']\n",
    "print(\"shape of Y train is: \",Y_train.shape)\n",
    "\n",
    "X_test = test_set.drop(columns=['f31'],axis=1)\n",
    "print(\"Shape of Y train is: \",X_test.shape)\n",
    "\n",
    "Y_test = test_set.loc[:,'f31']\n",
    "print(\"Shape of Y test is: \",Y_test.shape)"
   ]
  },
  {
   "cell_type": "code",
   "execution_count": 288,
   "metadata": {},
   "outputs": [],
   "source": [
    "#Question 2(b)\n",
    "#Linear kernel has been used for this\n",
    "from sklearn.svm import SVC\n",
    "import time\n",
    "\n",
    "def svmClassifier(train_set, test_set, c_value,kernel_type,gamma_value):\n",
    "    clf = SVC(C=c_value, kernel=kernel_type,gamma=gamma_value)\n",
    "    X_train = train_set.drop(columns=['f31'],axis=1)\n",
    "    Y_train = train_set.loc[:,'f31']\n",
    "    X_test = test_set.drop(columns=['f31'],axis=1)\n",
    "    Y_test = test_set.loc[:,'f31'] #actual labels list\n",
    "    start = time.time()\n",
    "    clf.fit(X_train,Y_train) #this measures the time taken to train the SVM\n",
    "    end = time.time()\n",
    "    time_taken = end-start\n",
    "    computedLabelsList = clf.predict(X_test)\n",
    "    return (computedLabelsList, Y_test.tolist(), time_taken)"
   ]
  },
  {
   "cell_type": "code",
   "execution_count": 257,
   "metadata": {},
   "outputs": [],
   "source": [
    "#Function to compute Accuracy given the predicted labels and actual labels list\n",
    "def computeAccuracy(computedTestList, originalTestList):\n",
    "    total_samples = len(originalTestList)\n",
    "    correct_samples = 0\n",
    "    for i in range(total_samples):\n",
    "        if (computedTestList[i] == originalTestList[i]):\n",
    "            correct_samples += 1\n",
    "    return correct_samples/total_samples"
   ]
  },
  {
   "cell_type": "code",
   "execution_count": 289,
   "metadata": {},
   "outputs": [],
   "source": [
    "#Cross validation for finding the value of C and average training time\n",
    "c_values = [0.000001, 0.00001, 0.0001, 0.001, 0.01, 0.1, \\\n",
    "            0.5, 0.75, 1, 3, 5, 10]\n",
    "\n",
    "def crossValidation(train_set,kernel_type,gamma_value):\n",
    "    nFolds = 3\n",
    "    dataPerFold = len(train_set)/nFolds\n",
    "    max_c = 0\n",
    "    max_accuracy = -1\n",
    "    accuracyList = []\n",
    "    timeTakenList = []\n",
    "    for c in c_values:\n",
    "        train_set = train_set.sample(frac=1).reset_index(drop=True)\n",
    "        accuracy = 0\n",
    "        avg_time_taken = 0\n",
    "        for i in range(nFolds):\n",
    "            start_index = int(i*dataPerFold)\n",
    "            test_df = train_set.iloc[start_index:(int)(start_index+dataPerFold)]\n",
    "            train_df = [train_set.iloc[0:start_index] , \n",
    "                        train_set.iloc[int((i+1)*dataPerFold) : ]]\n",
    "            computedLabelsList, givenLabelsList, time_taken = \\\n",
    "               svmClassifier(pd.concat(train_df), test_df, c,kernel_type, gamma_value)\n",
    "            accuracy += computeAccuracy(computedLabelsList,givenLabelsList)\n",
    "            avg_time_taken += time_taken\n",
    "        accuracyList.append((accuracy/nFolds,c))\n",
    "        timeTakenList.append((avg_time_taken/nFolds,c))\n",
    "        print(\"accuracy is: \",accuracy/nFolds)\n",
    "        print(\"Average training time is: \", avg_time_taken/nFolds)\n",
    "        print(\"c value is: \",c)\n",
    "        if(accuracy/nFolds > max_accuracy):\n",
    "            max_accuracy = accuracy/nFolds\n",
    "            max_c = c\n",
    "    return max_c, accuracyList, timeTakenList"
   ]
  },
  {
   "cell_type": "code",
   "execution_count": 290,
   "metadata": {},
   "outputs": [
    {
     "name": "stdout",
     "output_type": "stream",
     "text": [
      "accuracy is:  0.5560532030401738\n",
      "Average training time is:  1.2911922931671143\n",
      "c value is:  1e-06\n",
      "accuracy is:  0.5559174809989141\n",
      "Average training time is:  1.3436805407206218\n",
      "c value is:  1e-05\n",
      "accuracy is:  0.616042345276873\n",
      "Average training time is:  1.302871545155843\n",
      "c value is:  0.0001\n",
      "accuracy is:  0.9197882736156352\n",
      "Average training time is:  0.7394936084747314\n",
      "c value is:  0.001\n",
      "accuracy is:  0.9336319218241043\n",
      "Average training time is:  0.33689045906066895\n",
      "c value is:  0.01\n",
      "accuracy is:  0.9372964169381107\n",
      "Average training time is:  0.2940057913462321\n",
      "c value is:  0.1\n",
      "accuracy is:  0.9400108577633007\n",
      "Average training time is:  0.32486899693806964\n",
      "c value is:  0.5\n",
      "accuracy is:  0.9394679695982627\n",
      "Average training time is:  0.38333455721537274\n",
      "c value is:  0.75\n",
      "accuracy is:  0.9386536373507058\n",
      "Average training time is:  0.4070744514465332\n",
      "c value is:  1\n",
      "accuracy is:  0.9391965255157437\n",
      "Average training time is:  0.6464289824167887\n",
      "c value is:  3\n",
      "accuracy is:  0.9410966340933768\n",
      "Average training time is:  0.7875256538391113\n",
      "c value is:  5\n",
      "accuracy is:  0.9405537459283387\n",
      "Average training time is:  1.2528350353240967\n",
      "c value is:  10\n"
     ]
    }
   ],
   "source": [
    "#Question 2(b)\n",
    "#Linear SVM using sklearn\n",
    "#Cross validation across varying C values\n",
    "max_c, accuracyList, timeTakenList = crossValidation(train_set,'linear','auto')"
   ]
  },
  {
   "cell_type": "code",
   "execution_count": 291,
   "metadata": {},
   "outputs": [],
   "source": [
    "import matplotlib.pyplot as plt\n",
    "import numpy as np\n",
    "\n",
    "def plotData(input_list):\n",
    "    y = [temp[1] for temp in input_list]\n",
    "    x = [temp[0] for temp in input_list]\n",
    "    plt.plot(y,x)\n",
    "    plt.title('Cross validation accuracy on Linear kernel \\\n",
    "              for varying values of C')\n",
    "    plt.xlabel('value of C in SVM')\n",
    "    plt.ylabel('Accuracy')\n",
    "    plt.show()\n",
    "    return"
   ]
  },
  {
   "cell_type": "code",
   "execution_count": 292,
   "metadata": {},
   "outputs": [
    {
     "data": {
      "image/png": "[encoded data removed]",
      "text/plain": [
       "<Figure size 432x288 with 1 Axes>"
      ]
     },
     "metadata": {
      "needs_background": "light"
     },
     "output_type": "display_data"
    },
    {
     "name": "stdout",
     "output_type": "stream",
     "text": [
      "Value of C for which cross validation accuracy is maximum is:  5\n"
     ]
    }
   ],
   "source": [
    "#Plotting the accuracy against different values of C while cross validation\n",
    "plotData(accuracyList)\n",
    "print(\"Value of C for which cross validation accuracy is maximum is: \",max_c)"
   ]
  },
  {
   "cell_type": "code",
   "execution_count": 294,
   "metadata": {},
   "outputs": [
    {
     "name": "stdout",
     "output_type": "stream",
     "text": [
      "accuracy on test set for linear kernel is:  0.9343283582089552\n"
     ]
    }
   ],
   "source": [
    "#Findings on the test set using the max C found from cross validation\n",
    "computed_test_labels, original_test_labels, time_taken = \\\n",
    "   svmClassifier(train_set,test_set,max_c,'linear','auto')\n",
    "accuracy_test = computeAccuracy(computed_test_labels, original_test_labels)\n",
    "print(\"accuracy on test set for linear kernel is: \",accuracy_test)\n"
   ]
  },
  {
   "cell_type": "code",
   "execution_count": 295,
   "metadata": {},
   "outputs": [
    {
     "data": {
      "image/png": "[encoded data removed]",
      "text/plain": [
       "<Figure size 432x288 with 1 Axes>"
      ]
     },
     "metadata": {
      "needs_background": "light"
     },
     "output_type": "display_data"
    }
   ],
   "source": [
    "#Plotting the training time across different values of C\n",
    "y = [temp[1] for temp in timeTakenList]\n",
    "x = [temp[0] for temp in timeTakenList]\n",
    "plt.plot(y,x)\n",
    "plt.title('Training time taken for varying values of C')\n",
    "plt.xlabel('value of C in SVM')\n",
    "plt.ylabel('Time taken')\n",
    "plt.show()"
   ]
  },
  {
   "cell_type": "code",
   "execution_count": 296,
   "metadata": {},
   "outputs": [
    {
     "name": "stdout",
     "output_type": "stream",
     "text": [
      "accuracy is:  0.5559174809989142\n",
      "Average training time is:  1.9623085657755535\n",
      "c value is:  1e-06\n",
      "accuracy is:  0.5560532030401737\n",
      "Average training time is:  1.9718196392059326\n",
      "c value is:  1e-05\n",
      "accuracy is:  0.5557817589576547\n",
      "Average training time is:  1.9996659755706787\n",
      "c value is:  0.0001\n",
      "accuracy is:  0.5560532030401737\n",
      "Average training time is:  2.0026689370473227\n",
      "c value is:  0.001\n",
      "accuracy is:  0.897801302931596\n",
      "Average training time is:  1.85596497853597\n",
      "c value is:  0.01\n",
      "accuracy is:  0.9288816503800218\n",
      "Average training time is:  0.8145426909128824\n",
      "c value is:  0.1\n",
      "accuracy is:  0.9448968512486428\n",
      "Average training time is:  0.5196771621704102\n",
      "c value is:  0.5\n",
      "accuracy is:  0.9482899022801302\n",
      "Average training time is:  0.48705561955769855\n",
      "c value is:  0.75\n",
      "accuracy is:  0.9476112920738328\n",
      "Average training time is:  0.48689993222554523\n",
      "c value is:  1\n",
      "accuracy is:  0.9546688382193268\n",
      "Average training time is:  0.43829162915547687\n",
      "c value is:  3\n",
      "accuracy is:  0.9543973941368078\n",
      "Average training time is:  0.3912598292032878\n",
      "c value is:  5\n",
      "accuracy is:  0.9603691639522257\n",
      "Average training time is:  0.40360061327616376\n",
      "c value is:  10\n"
     ]
    }
   ],
   "source": [
    "#Question 2(c)\n",
    "#Experimenting with RBF and Polynomial kernels and various values of C\n",
    "#RBF kernel with gamma=auto\n",
    "max_c_rbf, accuracyList_rbf, timeTakenList_rbf = \\\n",
    "    crossValidation(train_set,'rbf','auto')"
   ]
  },
  {
   "cell_type": "code",
   "execution_count": 297,
   "metadata": {},
   "outputs": [
    {
     "name": "stdout",
     "output_type": "stream",
     "text": [
      "Value of c for which RBF kernel gave maximum accuracy is:  10\n",
      "Maximum value of accuracy is:  (0.9603691639522257, 10)\n"
     ]
    },
    {
     "data": {
      "image/png": "[encoded data removed]",
      "text/plain": [
       "<Figure size 432x288 with 1 Axes>"
      ]
     },
     "metadata": {
      "needs_background": "light"
     },
     "output_type": "display_data"
    }
   ],
   "source": [
    "#RBF kernel for gamma='auto'\n",
    "print(\"Value of c for which RBF kernel gave maximum accuracy is: \",max_c_rbf)\n",
    "print(\"Maximum value of accuracy is: \",max(accuracyList_rbf))\n",
    "\n",
    "#Plot of accuracies against C values for RBF kernel\n",
    "y = [temp[1] for temp in accuracyList_rbf]\n",
    "x = [temp[0] for temp in accuracyList_rbf]\n",
    "plt.plot(y,x)\n",
    "plt.title('Accuracy using RBF kernel for varying values of C')\n",
    "plt.xlabel('value of C in SVM')\n",
    "plt.ylabel('Accuracy')\n",
    "plt.show()"
   ]
  },
  {
   "cell_type": "code",
   "execution_count": 298,
   "metadata": {},
   "outputs": [
    {
     "data": {
      "image/png": "[encoded data removed]",
      "text/plain": [
       "<Figure size 432x288 with 1 Axes>"
      ]
     },
     "metadata": {
      "needs_background": "light"
     },
     "output_type": "display_data"
    }
   ],
   "source": [
    "#Plot of accuracies against C values for RBF kernel\n",
    "y = [temp[1] for temp in timeTakenList_rbf]\n",
    "x = [temp[0] for temp in timeTakenList_rbf]\n",
    "plt.plot(y,x)\n",
    "plt.title('Training time using RBF kernel for varying values of C')\n",
    "plt.xlabel('value of C in SVM')\n",
    "plt.ylabel('Training time')\n",
    "plt.show()"
   ]
  },
  {
   "cell_type": "code",
   "execution_count": 299,
   "metadata": {},
   "outputs": [
    {
     "name": "stdout",
     "output_type": "stream",
     "text": [
      "accuracy on test set for rbf kernel is:  0.9560379918588874\n"
     ]
    }
   ],
   "source": [
    "#Findings on the test set using the max C found from cross validation\n",
    "computed_test_labels, original_test_labels, time_taken = \\\n",
    "   svmClassifier(train_set,test_set,max_c,'rbf','auto')\n",
    "accuracy_test = computeAccuracy(computed_test_labels, original_test_labels)\n",
    "print(\"accuracy on test set for rbf kernel is: \",accuracy_test)"
   ]
  },
  {
   "cell_type": "code",
   "execution_count": 300,
   "metadata": {},
   "outputs": [
    {
     "name": "stdout",
     "output_type": "stream",
     "text": [
      "accuracy is:  0.5559174809989141\n",
      "Average training time is:  2.0316899617513022\n",
      "c value is:  1e-06\n",
      "accuracy is:  0.5559174809989141\n",
      "Average training time is:  2.061040719350179\n",
      "c value is:  1e-05\n",
      "accuracy is:  0.5559174809989141\n",
      "Average training time is:  2.1574387550354004\n",
      "c value is:  0.0001\n",
      "accuracy is:  0.5559174809989142\n",
      "Average training time is:  2.085390647252401\n",
      "c value is:  0.001\n",
      "accuracy is:  0.8964440825190011\n",
      "Average training time is:  1.8598171869913738\n",
      "c value is:  0.01\n",
      "accuracy is:  0.9330890336590661\n",
      "Average training time is:  0.8408935864766439\n",
      "c value is:  0.1\n",
      "accuracy is:  0.9450325732899024\n",
      "Average training time is:  0.551368236541748\n",
      "c value is:  0.5\n",
      "accuracy is:  0.9491042345276873\n",
      "Average training time is:  0.5440111955006918\n",
      "c value is:  0.75\n",
      "accuracy is:  0.9519543973941369\n",
      "Average training time is:  0.499331792195638\n",
      "c value is:  1\n",
      "accuracy is:  0.9564332247557004\n",
      "Average training time is:  0.4502998987833659\n",
      "c value is:  3\n",
      "accuracy is:  0.9569761129207383\n",
      "Average training time is:  0.44863168398539227\n",
      "c value is:  5\n",
      "accuracy is:  0.9594191096634094\n",
      "Average training time is:  0.5065306822458903\n",
      "c value is:  10\n"
     ]
    }
   ],
   "source": [
    "#Cross validation on rbf kernel for gamma='scale'\n",
    "max_c_rbf, accuracyList_rbf, timeTakenList_rbf = \\\n",
    "    crossValidation(train_set,'rbf','scale')"
   ]
  },
  {
   "cell_type": "code",
   "execution_count": 301,
   "metadata": {},
   "outputs": [
    {
     "name": "stdout",
     "output_type": "stream",
     "text": [
      "Value of c for which RBF kernel gave maximum accuracy is:  10\n",
      "Maximum value of accuracy is:  (0.9594191096634094, 10)\n"
     ]
    },
    {
     "data": {
      "image/png": "[encoded data removed]",
      "text/plain": [
       "<Figure size 432x288 with 1 Axes>"
      ]
     },
     "metadata": {
      "needs_background": "light"
     },
     "output_type": "display_data"
    }
   ],
   "source": [
    "#RBF kernel for gamma='scale'\n",
    "print(\"Value of c for which RBF kernel gave maximum accuracy is: \",max_c_rbf)\n",
    "print(\"Maximum value of accuracy is: \",max(accuracyList_rbf))\n",
    "\n",
    "#Plot of accuracies against C values for RBF kernel\n",
    "y = [temp[1] for temp in accuracyList_rbf]\n",
    "x = [temp[0] for temp in accuracyList_rbf]\n",
    "plt.plot(y,x)\n",
    "plt.title('Accuracy using RBF kernel for varying values of C')\n",
    "plt.xlabel('value of C in SVM')\n",
    "plt.ylabel('Accuracy')\n",
    "plt.show()"
   ]
  },
  {
   "cell_type": "code",
   "execution_count": 302,
   "metadata": {},
   "outputs": [
    {
     "data": {
      "image/png": "[encoded data removed]",
      "text/plain": [
       "<Figure size 432x288 with 1 Axes>"
      ]
     },
     "metadata": {
      "needs_background": "light"
     },
     "output_type": "display_data"
    }
   ],
   "source": [
    "#Plot of time taken against C values for RBF kernel\n",
    "y = [temp[1] for temp in timeTakenList_rbf]\n",
    "x = [temp[0] for temp in timeTakenList_rbf]\n",
    "plt.plot(y,x)\n",
    "plt.title('Training time using RBF kernel for varying values of C')\n",
    "plt.xlabel('value of C in SVM')\n",
    "plt.ylabel('Training time')\n",
    "plt.show()"
   ]
  },
  {
   "cell_type": "code",
   "execution_count": 303,
   "metadata": {},
   "outputs": [
    {
     "name": "stdout",
     "output_type": "stream",
     "text": [
      "accuracy on test set for rbf kernel is:  0.9579375848032564\n"
     ]
    }
   ],
   "source": [
    "#Findings on the test set using the max C found from cross validation\n",
    "computed_test_labels, original_test_labels, time_taken = \\\n",
    "   svmClassifier(train_set,test_set,max_c,'rbf','scale')\n",
    "accuracy_test = computeAccuracy(computed_test_labels, original_test_labels)\n",
    "print(\"accuracy on test set for rbf kernel is: \",accuracy_test)"
   ]
  },
  {
   "cell_type": "code",
   "execution_count": 304,
   "metadata": {},
   "outputs": [
    {
     "name": "stdout",
     "output_type": "stream",
     "text": [
      "accuracy is:  0.5559174809989142\n",
      "Average training time is:  1.4449633757273357\n",
      "c value is:  1e-06\n",
      "accuracy is:  0.5557817589576547\n",
      "Average training time is:  1.4342902501424153\n",
      "c value is:  1e-05\n",
      "accuracy is:  0.5559174809989142\n",
      "Average training time is:  1.4893271923065186\n",
      "c value is:  0.0001\n",
      "accuracy is:  0.5557817589576547\n",
      "Average training time is:  1.5459579626719158\n",
      "c value is:  0.001\n",
      "accuracy is:  0.5560532030401737\n",
      "Average training time is:  1.478987455368042\n",
      "c value is:  0.01\n",
      "accuracy is:  0.9157166123778501\n",
      "Average training time is:  0.9613080819447836\n",
      "c value is:  0.1\n",
      "accuracy is:  0.9401465798045603\n",
      "Average training time is:  0.567042350769043\n",
      "c value is:  0.5\n",
      "accuracy is:  0.9435396308360477\n",
      "Average training time is:  0.5016653537750244\n",
      "c value is:  0.75\n",
      "accuracy is:  0.9484256243213899\n",
      "Average training time is:  0.4903263250986735\n",
      "c value is:  1\n",
      "accuracy is:  0.9533116178067319\n",
      "Average training time is:  0.4252811272939046\n",
      "c value is:  3\n",
      "accuracy is:  0.9573832790445168\n",
      "Average training time is:  0.36939024925231934\n",
      "c value is:  5\n",
      "accuracy is:  0.9546688382193268\n",
      "Average training time is:  0.36791086196899414\n",
      "c value is:  10\n"
     ]
    }
   ],
   "source": [
    "#For polynomial kernel with gamma='auto'\n",
    "max_c_poly, accuracyList_poly, timeTakenList_poly = \\\n",
    "    crossValidation(train_set,'poly','auto')\n"
   ]
  },
  {
   "cell_type": "code",
   "execution_count": 305,
   "metadata": {},
   "outputs": [
    {
     "name": "stdout",
     "output_type": "stream",
     "text": [
      "Value of c for which poly kernel gave maximum accuracy is:  5\n",
      "Maximum value of accuracy is:  (0.9573832790445168, 5)\n"
     ]
    },
    {
     "data": {
      "image/png": "[encoded data removed]",
      "text/plain": [
       "<Figure size 432x288 with 1 Axes>"
      ]
     },
     "metadata": {
      "needs_background": "light"
     },
     "output_type": "display_data"
    }
   ],
   "source": [
    "#polynomial kernel\n",
    "print(\"Value of c for which poly kernel gave maximum accuracy is: \",max_c_poly)\n",
    "print(\"Maximum value of accuracy is: \",max(accuracyList_poly))\n",
    "\n",
    "#Plot of accuracies against C values for RBF kernel\n",
    "y = [temp[1] for temp in accuracyList_poly]\n",
    "x = [temp[0] for temp in accuracyList_poly]\n",
    "plt.plot(y,x)\n",
    "plt.title('Accuracy using poly kernel for varying values of C')\n",
    "plt.xlabel('value of C in SVM')\n",
    "plt.ylabel('Accuracy')\n",
    "plt.show()"
   ]
  },
  {
   "cell_type": "code",
   "execution_count": 306,
   "metadata": {},
   "outputs": [
    {
     "data": {
      "image/png": "[encoded data removed]",
      "text/plain": [
       "<Figure size 432x288 with 1 Axes>"
      ]
     },
     "metadata": {
      "needs_background": "light"
     },
     "output_type": "display_data"
    }
   ],
   "source": [
    "#Plot of accuracies against C values for RBF kernel\n",
    "y = [temp[1] for temp in timeTakenList_poly]\n",
    "x = [temp[0] for temp in timeTakenList_poly]\n",
    "plt.plot(y,x)\n",
    "plt.title('Training time using poly kernel for varying values of C')\n",
    "plt.xlabel('value of C in SVM')\n",
    "plt.ylabel('Training time')\n",
    "plt.show()"
   ]
  },
  {
   "cell_type": "code",
   "execution_count": 310,
   "metadata": {},
   "outputs": [
    {
     "name": "stdout",
     "output_type": "stream",
     "text": [
      "accuracy on test set for poly kernel is:  0.9563093622795116\n"
     ]
    }
   ],
   "source": [
    "#Findings on the test set using the max C found from cross validation\n",
    "computed_test_labels, original_test_labels, time_taken = \\\n",
    "   svmClassifier(train_set,test_set,max_c,'poly','auto')\n",
    "accuracy_test = computeAccuracy(computed_test_labels, original_test_labels)\n",
    "print(\"accuracy on test set for poly kernel is: \",accuracy_test)"
   ]
  },
  {
   "cell_type": "code",
   "execution_count": 311,
   "metadata": {},
   "outputs": [
    {
     "name": "stdout",
     "output_type": "stream",
     "text": [
      "accuracy is:  0.5560532030401737\n",
      "Average training time is:  1.4409615993499756\n",
      "c value is:  1e-06\n",
      "accuracy is:  0.5559174809989142\n",
      "Average training time is:  1.4503031571706135\n",
      "c value is:  1e-05\n",
      "accuracy is:  0.5559174809989141\n",
      "Average training time is:  1.7781872749328613\n",
      "c value is:  0.0001\n",
      "accuracy is:  0.5559174809989141\n",
      "Average training time is:  1.5793872674306233\n",
      "c value is:  0.001\n",
      "accuracy is:  0.8113463626492942\n",
      "Average training time is:  1.7555039723714192\n",
      "c value is:  0.01\n",
      "accuracy is:  0.9358034744842563\n",
      "Average training time is:  0.7469995816548666\n",
      "c value is:  0.1\n",
      "accuracy is:  0.9501900108577633\n",
      "Average training time is:  0.4476319948832194\n",
      "c value is:  0.5\n",
      "accuracy is:  0.9529044516829533\n",
      "Average training time is:  0.43929290771484375\n",
      "c value is:  0.75\n",
      "accuracy is:  0.9548045602605862\n",
      "Average training time is:  0.40193430582682294\n",
      "c value is:  1\n",
      "accuracy is:  0.9576547231270358\n",
      "Average training time is:  0.36958058675130206\n",
      "c value is:  3\n",
      "accuracy is:  0.9590119435396308\n",
      "Average training time is:  0.370419184366862\n",
      "c value is:  5\n",
      "accuracy is:  0.9617263843648208\n",
      "Average training time is:  0.3772495587666829\n",
      "c value is:  10\n"
     ]
    }
   ],
   "source": [
    "#For polynomial kernel with gamma='scale'\n",
    "max_c_poly, accuracyList_poly, timeTakenList_poly = \\\n",
    "    crossValidation(train_set,'poly','scale')"
   ]
  },
  {
   "cell_type": "code",
   "execution_count": 312,
   "metadata": {},
   "outputs": [
    {
     "name": "stdout",
     "output_type": "stream",
     "text": [
      "Value of c for which poly kernel gave maximum accuracy is:  10\n",
      "Maximum value of accuracy is:  (0.9617263843648208, 10)\n"
     ]
    },
    {
     "data": {
      "image/png": "[encoded data removed]",
      "text/plain": [
       "<Figure size 432x288 with 1 Axes>"
      ]
     },
     "metadata": {
      "needs_background": "light"
     },
     "output_type": "display_data"
    }
   ],
   "source": [
    "#polynomial kernel with gamma='scale'\n",
    "print(\"Value of c for which poly kernel gave maximum accuracy is: \",max_c_poly)\n",
    "print(\"Maximum value of accuracy is: \",max(accuracyList_poly))\n",
    "\n",
    "#Plot of accuracies against C values for RBF kernel\n",
    "y = [temp[1] for temp in accuracyList_poly]\n",
    "x = [temp[0] for temp in accuracyList_poly]\n",
    "plt.plot(y,x)\n",
    "plt.title('Accuracy using poly kernel for varying values of C')\n",
    "plt.xlabel('value of C in SVM')\n",
    "plt.ylabel('Accuracy')\n",
    "plt.show()"
   ]
  },
  {
   "cell_type": "code",
   "execution_count": 313,
   "metadata": {},
   "outputs": [
    {
     "data": {
      "image/png": "[encoded data removed]",
      "text/plain": [
       "<Figure size 432x288 with 1 Axes>"
      ]
     },
     "metadata": {
      "needs_background": "light"
     },
     "output_type": "display_data"
    }
   ],
   "source": [
    "#Plot of time taken against C values for polynomial kernel\n",
    "y = [temp[1] for temp in timeTakenList_poly]\n",
    "x = [temp[0] for temp in timeTakenList_poly]\n",
    "plt.plot(y,x)\n",
    "plt.title('Training time using poly kernel for varying values of C')\n",
    "plt.xlabel('value of C in SVM')\n",
    "plt.ylabel('Training time')\n",
    "plt.show()"
   ]
  },
  {
   "cell_type": "code",
   "execution_count": 314,
   "metadata": {},
   "outputs": [
    {
     "name": "stdout",
     "output_type": "stream",
     "text": [
      "accuracy on test set for rbf kernel is:  0.9595658073270014\n"
     ]
    }
   ],
   "source": [
    "#Findings on the test set using the max C found from cross validation\n",
    "computed_test_labels, original_test_labels, time_taken = \\\n",
    "   svmClassifier(train_set,test_set,max_c,'poly','scale')\n",
    "accuracy_test = computeAccuracy(computed_test_labels, original_test_labels)\n",
    "print(\"accuracy on test set for rbf kernel is: \",accuracy_test)"
   ]
  },
  {
   "cell_type": "code",
   "execution_count": null,
   "metadata": {},
   "outputs": [],
   "source": [
    "#Question 2(d) Bonus\n",
    "#Implementing Linear SVM"
   ]
  },
  {
   "cell_type": "code",
   "execution_count": 107,
   "metadata": {},
   "outputs": [],
   "source": [
    "import numpy as np\n",
    "from numpy import linalg\n",
    "import sys\n",
    "sys.path.append(r'C:\\Users\\Admin\\Anaconda3\\Lib\\site-packages')\n",
    "import cvxopt\n",
    "import cvxopt.solvers"
   ]
  },
  {
   "cell_type": "code",
   "execution_count": 320,
   "metadata": {},
   "outputs": [],
   "source": [
    "class SVM(object):\n",
    "    def __init__(self, C=None):\n",
    "        self.C = C\n",
    "        if self.C is not None: self.C = float(self.C)\n",
    "\n",
    "    def fit(self, X, y):\n",
    "        num_samples = X.shape[0]\n",
    "        num_features = X.shape[1]\n",
    "        print(\"Number of samples: \",num_samples)\n",
    "        print(\"Number of features: \",num_features)\n",
    "        \n",
    "        #Converting from data frame to np array\n",
    "        X= X.values\n",
    "        y = y.values\n",
    "        #Using the python equivalent of quadprog in Matlab\n",
    "        #to solve the dual problem in SVM\n",
    "        K = np.zeros((num_samples, num_samples))\n",
    "        \n",
    "        for i in range(num_samples):\n",
    "            for j in range(num_samples):\n",
    "                K[i,j] = np.dot(X[i],X[j])\n",
    "\n",
    "        P = cvxopt.matrix(np.outer(y,y) * K)\n",
    "        #q should be vector of 1s\n",
    "        q = cvxopt.matrix(np.ones(num_samples) * -1)\n",
    "        y = y.astype('double')\n",
    "        #A should be transpose of y\n",
    "        A = cvxopt.matrix(y, (1,num_samples))\n",
    "        b = cvxopt.matrix(0.0)\n",
    "\n",
    "        if self.C is None:\n",
    "            G = cvxopt.matrix(np.diag(np.ones(num_samples) * -1))\n",
    "            h = cvxopt.matrix(np.zeros(num_samples))\n",
    "        else:\n",
    "            tmp1 = np.diag(np.ones(num_samples) * -1)\n",
    "            tmp2 = np.identity(num_samples)\n",
    "            G = cvxopt.matrix(np.vstack((tmp1, tmp2)))\n",
    "            tmp1 = np.zeros(num_samples)\n",
    "            tmp2 = np.ones(num_samples) * self.C\n",
    "            h = cvxopt.matrix(np.hstack((tmp1, tmp2)))\n",
    "\n",
    "        # solve Quadprog problem\n",
    "        solution = cvxopt.solvers.qp(P, q, G, h, A, b)\n",
    "\n",
    "        # Lagrange multipliers, solutions to dual problem\n",
    "        alpha = np.ravel(solution['x'])\n",
    "        print(\"alpha values:\", alpha)\n",
    "\n",
    "        # Support vectors have non zero lagrange multipliers\n",
    "        support_vector = alpha > 1e-5\n",
    "        ind = np.arange(len(alpha))[support_vector]\n",
    "        self.alpha = alpha[support_vector]\n",
    "        self.support_vector = X[support_vector]\n",
    "        self.support_vector_y = y[support_vector]\n",
    "        print(\"%d support vectors out of %d points\" % (len(self.alpha),num_samples))\n",
    "\n",
    "        #Solutions to primal problem can be found from alpha\n",
    "        # Bias\n",
    "        self.b = 0\n",
    "        for n in range(len(self.alpha)):\n",
    "            self.b += self.support_vector_y[n]\n",
    "            self.b -= np.sum(self.alpha * self.support_vector_y * \\\n",
    "                             K[ind[n],support_vector])\n",
    "        self.b /= len(self.alpha)\n",
    "\n",
    "        # Weight vector\n",
    "        self.w = np.zeros(num_features)\n",
    "        for n in range(len(self.alpha)):\n",
    "            self.w += self.alpha[n] * self.support_vector_y[n] * \\\n",
    "                        self.support_vector[n]\n",
    "\n",
    "        return self.w, self.b \n",
    "            \n",
    "    def project(self, X):\n",
    "        if self.w is not None:\n",
    "            return np.dot(X, self.w) + self.b\n",
    "        else:\n",
    "            y_predict = np.zeros(len(X))\n",
    "            for i in range(len(X)):\n",
    "                s = 0\n",
    "                for a, support_vector_y, support_vector in zip(self.alpha, \\\n",
    "                                self.support_vector_y, self.support_vector):\n",
    "                    s += alpha * support_vector_y * np.dot(X[i], support_vector)\n",
    "                y_predict[i] = s\n",
    "            return y_predict + self.b\n",
    "\n",
    "    def predict(self, X):\n",
    "        return np.sign(self.project(X))"
   ]
  },
  {
   "cell_type": "code",
   "execution_count": 317,
   "metadata": {
    "scrolled": false
   },
   "outputs": [
    {
     "name": "stdout",
     "output_type": "stream",
     "text": [
      "Number of samples:  7370\n",
      "Number of features:  46\n",
      "     pcost       dcost       gap    pres   dres\n",
      " 0: -9.6634e+03 -5.2273e+05  1e+06  8e-01  5e-12\n",
      " 1: -8.0986e+03 -1.9335e+05  3e+05  1e-01  5e-12\n",
      " 2: -7.0741e+03 -7.6195e+04  1e+05  4e-02  4e-12\n",
      " 3: -6.9335e+03 -5.2049e+04  6e+04  2e-02  3e-12\n",
      " 4: -6.9541e+03 -4.6145e+04  5e+04  2e-02  3e-12\n",
      " 5: -6.9920e+03 -4.2621e+04  5e+04  1e-02  3e-12\n",
      " 6: -7.2803e+03 -2.9021e+04  2e+04  5e-03  4e-12\n",
      " 7: -7.9133e+03 -2.1258e+04  1e+04  3e-03  5e-12\n",
      " 8: -8.4074e+03 -1.7627e+04  1e+04  2e-03  5e-12\n",
      " 9: -8.6475e+03 -1.5934e+04  8e+03  1e-03  5e-12\n",
      "10: -8.8275e+03 -1.4910e+04  6e+03  8e-04  6e-12\n",
      "11: -9.0572e+03 -1.3825e+04  5e+03  6e-04  6e-12\n",
      "12: -9.2256e+03 -1.3104e+04  4e+03  4e-04  6e-12\n",
      "13: -9.4567e+03 -1.2293e+04  3e+03  2e-04  6e-12\n",
      "14: -9.5957e+03 -1.1769e+04  2e+03  1e-04  6e-12\n",
      "15: -9.7002e+03 -1.1461e+04  2e+03  9e-05  6e-12\n",
      "16: -9.7933e+03 -1.1132e+04  1e+03  4e-05  6e-12\n",
      "17: -9.8878e+03 -1.0867e+04  1e+03  2e-05  6e-12\n",
      "18: -9.9287e+03 -1.0785e+04  9e+02  2e-05  6e-12\n",
      "19: -9.9468e+03 -1.0664e+04  7e+02  5e-06  7e-12\n",
      "20: -9.9627e+03 -1.0637e+04  7e+02  4e-06  6e-12\n",
      "21: -1.0029e+04 -1.0517e+04  5e+02  8e-07  7e-12\n",
      "22: -1.0125e+04 -1.0372e+04  2e+02  3e-07  7e-12\n",
      "23: -1.0181e+04 -1.0294e+04  1e+02  1e-07  7e-12\n",
      "24: -1.0186e+04 -1.0287e+04  1e+02  7e-08  7e-12\n",
      "25: -1.0203e+04 -1.0266e+04  6e+01  2e-08  7e-12\n",
      "26: -1.0210e+04 -1.0256e+04  5e+01  1e-08  7e-12\n",
      "27: -1.0214e+04 -1.0251e+04  4e+01  5e-09  6e-12\n",
      "28: -1.0223e+04 -1.0241e+04  2e+01  2e-09  7e-12\n",
      "29: -1.0228e+04 -1.0235e+04  7e+00  3e-10  8e-12\n",
      "30: -1.0230e+04 -1.0232e+04  2e+00  4e-11  8e-12\n",
      "31: -1.0231e+04 -1.0231e+04  3e-01  6e-12  9e-12\n",
      "32: -1.0231e+04 -1.0231e+04  3e-03  9e-13  8e-12\n",
      "Optimal solution found.\n",
      "alpha values: [8.08049386e-08 9.45318604e-07 4.97744908e-08 ... 3.37092226e-08\n",
      " 4.59616728e-08 2.20904152e-07]\n",
      "1081 support vectors out of 7370 points\n",
      "[ 0.49394462 -0.34206456  0.28478232 -0.13526427  1.8440422  -0.1306581\n",
      "  0.11434759  0.09819524 -0.2921716   0.12595693 -0.11638286 -0.16824847\n",
      " -0.75476727  0.08732429  0.09759035 -0.28421843 -0.22192529 -0.01770542\n",
      "  0.54080104  0.02568404  0.37584556  0.20754678 -0.12956627  0.02726207\n",
      "  0.10199276 -0.34509785 -0.19080894  0.53559535 -0.21783326 -1.64318622\n",
      "  1.86070804 -2.12091866  0.58012482  1.54048239 -0.58259332  0.33543577\n",
      "  0.24684611 -0.53043417  0.34094622  0.18917651  0.10904708 -0.59654854\n",
      "  0.48719002 -0.39170719 -0.34055016  0.73194591]\n",
      "0.7861057188621488\n",
      "weights vector shape is:  (46,)\n",
      "Bias is:  0.7861057188621488\n"
     ]
    }
   ],
   "source": [
    "#Linear SVM with C value 10\n",
    "clf = SVM(C=10)\n",
    "#Training function\n",
    "weights, bias = clf.fit(X_train, Y_train)\n",
    "print(weights)\n",
    "print(bias)\n",
    "\n",
    "print(\"weights vector shape is: \",weights.shape)\n",
    "print(\"Bias is: \",bias)"
   ]
  },
  {
   "cell_type": "code",
   "execution_count": 319,
   "metadata": {},
   "outputs": [
    {
     "name": "stdout",
     "output_type": "stream",
     "text": [
      "Weights vector is : [ 0.49394462 -0.34206456  0.28478232 -0.13526427  1.8440422  -0.1306581\n",
      "  0.11434759  0.09819524 -0.2921716   0.12595693 -0.11638286 -0.16824847\n",
      " -0.75476727  0.08732429  0.09759035 -0.28421843 -0.22192529 -0.01770542\n",
      "  0.54080104  0.02568404  0.37584556  0.20754678 -0.12956627  0.02726207\n",
      "  0.10199276 -0.34509785 -0.19080894  0.53559535 -0.21783326 -1.64318622\n",
      "  1.86070804 -2.12091866  0.58012482  1.54048239 -0.58259332  0.33543577\n",
      "  0.24684611 -0.53043417  0.34094622  0.18917651  0.10904708 -0.59654854\n",
      "  0.48719002 -0.39170719 -0.34055016  0.73194591]\n"
     ]
    }
   ],
   "source": [
    "print(\"Weights vector is :\",weights)"
   ]
  },
  {
   "cell_type": "code",
   "execution_count": 318,
   "metadata": {},
   "outputs": [
    {
     "name": "stdout",
     "output_type": "stream",
     "text": [
      "Accuracy on test set is: 0.9354138398914519\n"
     ]
    }
   ],
   "source": [
    "y_predict = clf.predict(X_test)\n",
    "correct = np.sum(y_predict == Y_test)\n",
    "print(\"Accuracy on test set is:\", correct/len(y_predict))"
   ]
  },
  {
   "cell_type": "code",
   "execution_count": null,
   "metadata": {},
   "outputs": [],
   "source": []
  }
 ],
 "metadata": {
  "kernelspec": {
   "display_name": "Python 3",
   "language": "python",
   "name": "python3"
  },
  "language_info": {
   "codemirror_mode": {
    "name": "ipython",
    "version": 3
   },
   "file_extension": ".py",
   "mimetype": "text/x-python",
   "name": "python",
   "nbconvert_exporter": "python",
   "pygments_lexer": "ipython3",
   "version": "3.7.1"
  }
 },
 "nbformat": 4,
 "nbformat_minor": 2
}
